{
 "cells": [
  {
   "cell_type": "markdown",
   "metadata": {},
   "source": [
    "# Conversion du fichier words.txt en fichier csv\n",
    "## Ce notebook permet la création d'un fichier csv:\n",
    "- Renommage des différentes colonnes \n",
    "- Ajout de la taille du mot (nombre de lettres)\n",
    "- Ajout d'une colonne binaire pour la présence (ou non) d'espace dans le mot\n",
    "- Ajout d'une colonne contenant le Path de l'image correspondante\n",
    "- Retypage de toutes les colonnes numériques en integer\n",
    "- Retour du notebook -> Fichier word.csv\n",
    "\n",
    "Nous avons considérer qu'il serait préferable de séparer notre livrable en 2 parties:\n",
    "- une pour la conversion et le pré-traitement du fichier\n",
    "- une pour la Data Viz de notre de jeu de données."
   ]
  },
  {
   "cell_type": "markdown",
   "metadata": {},
   "source": [
    "### Import"
   ]
  },
  {
   "cell_type": "code",
   "execution_count": 1,
   "metadata": {},
   "outputs": [],
   "source": [
    "import pandas as pd\n",
    "import numpy as np\n",
    "import matplotlib.pyplot as plt\n",
    "import seaborn as sns\n",
    "import PIL.Image\n",
    "from matplotlib.pyplot import imshow"
   ]
  },
  {
   "cell_type": "markdown",
   "metadata": {},
   "source": [
    "### Variables"
   ]
  },
  {
   "cell_type": "code",
   "execution_count": 2,
   "metadata": {},
   "outputs": [],
   "source": [
    "file_path_word = \"ASCII/words.txt\"\n",
    "# Don't forget to change the name file \n",
    "file_name_exit = 'word_new.csv'"
   ]
  },
  {
   "cell_type": "markdown",
   "metadata": {},
   "source": [
    "### Développement"
   ]
  },
  {
   "cell_type": "code",
   "execution_count": 3,
   "metadata": {},
   "outputs": [],
   "source": [
    "file = open(file_path_word)\n",
    "data=[]\n",
    "for line in file:\n",
    "        if line[0]!='#':\n",
    "            result = line.split()\n",
    "            result[8] = ' '.join(result[8:])\n",
    "            data.append(result[:9])\n",
    "\n",
    "\n",
    "\n",
    "\n",
    "df= pd.DataFrame(data, columns=['fileName','target','greyLevel','x_Begin','y_Begin','width','height','tag','word'])\n",
    "\n",
    "df['len']= df['word'].apply(len)\n",
    "df.x_Begin=df.x_Begin.astype(int)\n",
    "df.greyLevel=df.greyLevel.astype(int)\n",
    "df['y_Begin']=df.y_Begin.astype(int)\n",
    "df.height=df.height.astype(int)\n",
    "df.width=df.width.astype(int)\n",
    "df = df.replace(to_replace = ['err', 'ok'],\n",
    "                                    value= [0, 1])\n",
    "df['space_in_text'] = [' ' in l for l in df['word']]\n",
    "df = df.replace(to_replace = [False, True],\n",
    "                                    value= [0, 1])\n",
    "df['len'] = df['word'].map(lambda x: len(x))\n",
    "df['path'] = [('words/'+l[:3]+'/'+l[:-6]+'/'+l+'.png') for l in df['fileName']]\n",
    "\n",
    "df.to_csv(file_name_exit,index=False)"
   ]
  },
  {
   "cell_type": "code",
   "execution_count": null,
   "metadata": {},
   "outputs": [],
   "source": []
  }
 ],
 "metadata": {
  "kernelspec": {
   "display_name": "Python 3",
   "language": "python",
   "name": "python3"
  },
  "language_info": {
   "codemirror_mode": {
    "name": "ipython",
    "version": 3
   },
   "file_extension": ".py",
   "mimetype": "text/x-python",
   "name": "python",
   "nbconvert_exporter": "python",
   "pygments_lexer": "ipython3",
   "version": "3.8.5"
  }
 },
 "nbformat": 4,
 "nbformat_minor": 4
}
