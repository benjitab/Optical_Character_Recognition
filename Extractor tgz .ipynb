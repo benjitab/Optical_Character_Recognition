{
 "cells": [
  {
   "cell_type": "markdown",
   "metadata": {},
   "source": [
    "### Notebook permettant l'extraction de répertoire tgz"
   ]
  },
  {
   "cell_type": "code",
   "execution_count": 8,
   "metadata": {},
   "outputs": [],
   "source": [
    "nomsFichier = ['ascii']\n",
    "import tarfile\n",
    "\n",
    "for file in nomsFichier:\n",
    "    fname = file +'/' + file + '.tgz'\n",
    "    tar = tarfile.open(fname, \"r:gz\")\n",
    "    tar.extractall(path = file+'/')\n",
    "    tar.close()"
   ]
  }
 ],
 "metadata": {
  "kernelspec": {
   "display_name": "Python 3",
   "language": "python",
   "name": "python3"
  },
  "language_info": {
   "codemirror_mode": {
    "name": "ipython",
    "version": 3
   },
   "file_extension": ".py",
   "mimetype": "text/x-python",
   "name": "python",
   "nbconvert_exporter": "python",
   "pygments_lexer": "ipython3",
   "version": "3.8.5"
  }
 },
 "nbformat": 4,
 "nbformat_minor": 4
}
